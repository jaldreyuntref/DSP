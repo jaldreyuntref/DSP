{
 "cells": [
  {
   "cell_type": "markdown",
   "id": "3c874436",
   "metadata": {},
   "source": [
    "Librerías y Funciones propias:"
   ]
  },
  {
   "cell_type": "code",
   "execution_count": null,
   "id": "8b873cae",
   "metadata": {},
   "outputs": [],
   "source": [
    "import sys\n",
    "import os\n",
    "sys.path.append(os.path.abspath('..')) \n",
    "\n",
    "import numpy as np\n",
    "import pyroomacoustics as pra\n",
    "import matplotlib.pyplot as plt\n",
    "from scipy.io import wavfile\n",
    "from algoritmos.CC import timeAveragedcrossCorrelation\n",
    "from algoritmos.GCC import generalizedCrossCorrelation\n",
    "from algoritmos.DOA import doa\n",
    "from helpers.addNoise import addNoise"
   ]
  },
  {
   "cell_type": "markdown",
   "id": "7d3829fa",
   "metadata": {},
   "source": [
    "Señales de entrada:"
   ]
  },
  {
   "cell_type": "code",
   "execution_count": null,
   "id": "114c3380",
   "metadata": {},
   "outputs": [],
   "source": [
    "fs, sourceSignal = wavfile.read(\"../audios/p262_001.wav\")\n",
    "sourceSignal = addNoise(sourceSignal, 30)\n",
    "\n",
    "if sourceSignal.dtype != np.float32 and sourceSignal.dtype != np.float64:\n",
    "    sourceSignal = sourceSignal.astype(np.float32)\n",
    "\n",
    "if np.max(np.abs(sourceSignal)) > 1:\n",
    "    sourceSignal = sourceSignal / np.max(np.abs(sourceSignal))\n"
   ]
  },
  {
   "cell_type": "markdown",
   "id": "4df1aace",
   "metadata": {},
   "source": [
    "Simulación:"
   ]
  },
  {
   "cell_type": "code",
   "execution_count": null,
   "id": "ea487182",
   "metadata": {},
   "outputs": [],
   "source": [
    "# Room dimensions (width * length)\n",
    "roomDimensions = [8, 8, 3]\n",
    "\n",
    "# Create a room\n",
    "rt60Target = 0.5\n",
    "eAbsorption, max_order = pra.inverse_sabine(rt60Target, roomDimensions)\n",
    "room = pra.ShoeBox(\n",
    "    roomDimensions, fs=fs, materials=pra.Material(eAbsorption), max_order=max_order\n",
    ")\n",
    "\n",
    "# Sound source position (x,y,z)\n",
    "sourcePosition = [4, 6.5, 1.5]\n",
    "\n",
    "# Add the source to the room\n",
    "room.add_source(sourcePosition, signal=sourceSignal)\n",
    "\n",
    "# Define a linear Microphone Array: 4 mics in a row\n",
    "distanceBetweenMics = 0.15\n",
    "initialMicPosition = [3.775, 2.5, 1]\n",
    "\n",
    "# Calculate positions for 4 microphones\n",
    "micPositions = np.array([\n",
    "    [initialMicPosition[0] + i * distanceBetweenMics, \n",
    "     initialMicPosition[1],\n",
    "     initialMicPosition[2]]\n",
    "    for i in range(4)\n",
    "])\n",
    "\n",
    "# Add microphones to the room\n",
    "room.add_microphone_array(pra.MicrophoneArray(micPositions.T, room.fs))\n",
    "\n",
    "# Run the room simulation\n",
    "room.simulate()\n",
    "\n",
    "# Get the microphone signals\n",
    "micSignals = room.mic_array.signals\n",
    "numberSamples = micSignals.shape[1]\n",
    "timeAxis = np.linspace(0, numberSamples / room.fs, numberSamples)\n",
    "\n",
    "rt60Real = room.measure_rt60()\n",
    "print(\"The desired RT60 was {}\".format(rt60Target))\n",
    "print(\"The measured RT60 is {}\".format(rt60Real[1, 0]))"
   ]
  },
  {
   "cell_type": "markdown",
   "id": "49447fc1",
   "metadata": {},
   "source": [
    "Algoritmos"
   ]
  },
  {
   "cell_type": "markdown",
   "id": "89fb5e28",
   "metadata": {},
   "source": [
    "Time Averaged Cross Correlation"
   ]
  },
  {
   "cell_type": "code",
   "execution_count": null,
   "id": "219b2ecf",
   "metadata": {},
   "outputs": [],
   "source": [
    "delays = []\n",
    "for i in range(3):\n",
    "    delays.append((timeAveragedcrossCorrelation(micSignals[i], micSignals[i + 1], returnDelay=True, graphs=False)[1]) / fs)\n",
    "\n",
    "print(\"Delays between microphones (in seconds):\", delays)\n",
    "\n",
    "print(\"DOA time averaged cross correlation: \", doa(delays, distanceBetweenMics))"
   ]
  },
  {
   "cell_type": "markdown",
   "id": "c24e4c15",
   "metadata": {},
   "source": [
    "GCC: Classic"
   ]
  },
  {
   "cell_type": "code",
   "execution_count": null,
   "id": "18e9a306",
   "metadata": {},
   "outputs": [],
   "source": [
    "delays = []\n",
    "for i in range(3):\n",
    "    delays.append((generalizedCrossCorrelation(micSignals[i], micSignals[i + 1], mode='classic', returnDelay=True, graphs=True)[1]) / fs)\n",
    "\n",
    "print(\"Delays between microphones (in seconds):\", delays)\n",
    "\n",
    "print(\"DOA classic cross correlation: \", doa(delays, distanceBetweenMics))"
   ]
  },
  {
   "cell_type": "markdown",
   "id": "afae0f67",
   "metadata": {},
   "source": [
    "GCC: Roth"
   ]
  },
  {
   "cell_type": "code",
   "execution_count": null,
   "id": "35283191",
   "metadata": {},
   "outputs": [],
   "source": [
    "delays = []\n",
    "for i in range(3):\n",
    "    delays.append((generalizedCrossCorrelation(micSignals[i], micSignals[i + 1], mode='roth', returnDelay=True, graphs=True)[1]) / fs)\n",
    "\n",
    "print(\"Delays between microphones (in seconds):\", delays)\n",
    "\n",
    "print(\"DOA Roth: \", doa(delays, distanceBetweenMics))"
   ]
  },
  {
   "cell_type": "markdown",
   "id": "e52eda41",
   "metadata": {},
   "source": [
    "GCC: SCOT"
   ]
  },
  {
   "cell_type": "code",
   "execution_count": null,
   "id": "c8b36b9b",
   "metadata": {},
   "outputs": [],
   "source": [
    "delays = []\n",
    "for i in range(3):\n",
    "    delays.append((generalizedCrossCorrelation(micSignals[i], micSignals[i + 1], mode='scot', returnDelay=True, graphs=False)[1]) / fs)\n",
    "\n",
    "print(\"Delays between microphones (in seconds):\", delays)\n",
    "\n",
    "print(\"DOA SCOT: \", doa(delays, distanceBetweenMics))"
   ]
  },
  {
   "cell_type": "markdown",
   "id": "ad24999d",
   "metadata": {},
   "source": [
    "GCC: Phase"
   ]
  },
  {
   "cell_type": "code",
   "execution_count": null,
   "id": "9309e990",
   "metadata": {},
   "outputs": [],
   "source": [
    "delays = []\n",
    "for i in range(3):\n",
    "    delays.append((generalizedCrossCorrelation(micSignals[i], micSignals[i + 1], mode='phase', returnDelay=True, graphs=False)[1]) / fs)\n",
    "\n",
    "print(\"Delays between microphones (in seconds):\", delays)\n",
    "\n",
    "print(\"DOA Phase: \", doa(delays, distanceBetweenMics))"
   ]
  }
 ],
 "metadata": {
  "kernelspec": {
   "display_name": "Python 3",
   "language": "python",
   "name": "python3"
  },
  "language_info": {
   "codemirror_mode": {
    "name": "ipython",
    "version": 3
   },
   "file_extension": ".py",
   "mimetype": "text/x-python",
   "name": "python",
   "nbconvert_exporter": "python",
   "pygments_lexer": "ipython3",
   "version": "3.12.1"
  }
 },
 "nbformat": 4,
 "nbformat_minor": 5
}
