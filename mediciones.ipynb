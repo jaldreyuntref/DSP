{
 "cells": [
  {
   "cell_type": "markdown",
   "id": "3c874436",
   "metadata": {},
   "source": [
    "Librerías y Funciones propias:"
   ]
  },
  {
   "cell_type": "code",
   "execution_count": null,
   "id": "8b873cae",
   "metadata": {},
   "outputs": [],
   "source": [
    "import numpy as np\n",
    "import pyroomacoustics as pra\n",
    "import matplotlib.pyplot as plt\n",
    "from CC import timeAveragedcrossCorrelation\n",
    "from GCC import generalizedCrossCorrelation\n",
    "from DOA import doa"
   ]
  },
  {
   "cell_type": "markdown",
   "id": "7d3829fa",
   "metadata": {},
   "source": [
    "Señales de entrada:"
   ]
  },
  {
   "cell_type": "code",
   "execution_count": null,
   "id": "114c3380",
   "metadata": {},
   "outputs": [],
   "source": []
  },
  {
   "cell_type": "markdown",
   "id": "4df1aace",
   "metadata": {},
   "source": [
    "Simulación:"
   ]
  },
  {
   "cell_type": "code",
   "execution_count": null,
   "id": "ea487182",
   "metadata": {},
   "outputs": [],
   "source": [
    "# Room dimensions (width*length)\n",
    "roomDimensions = [5, 5, 3]\n",
    "\n",
    "# Create a room\n",
    "room = pra.ShoeBox(roomDimensions, fs=16000, max_order=0)\n",
    "\n",
    "# Sound source position (x,y,z)\n",
    "sourcePosition = [5, 5, 1.5]\n",
    "\n",
    "# Load or generate a simple signal\n",
    "duration = 1.0  \n",
    "fs = 16000  \n",
    "time = np.linspace(0, duration, int(fs * duration))\n",
    "np.random.seed(42)\n",
    "impulse = 0.05 * np.random.randn(len(time))\n",
    "impulse[(len(time))//2] += 1.0  # impulso \"escondido\"\n",
    "\n",
    "# Add the source to the room\n",
    "room.add_source(sourcePosition, signal=impulse)\n",
    "\n",
    "# Define a linear Microphone Array: 4 mics in a row\n",
    "distanceBetweenMics = 0.5\n",
    "initialMicPosition = [1.5, 2.5, 1.5]\n",
    "\n",
    "# Calculate positions for 4 microphones\n",
    "micPositions = np.array([\n",
    "    [initialMicPosition[0] + i * distanceBetweenMics, \n",
    "     initialMicPosition[1],\n",
    "     initialMicPosition[2]]\n",
    "    for i in range(4)\n",
    "])\n",
    "\n",
    "# Add microphones to the room\n",
    "room.add_microphone_array(pra.MicrophoneArray(micPositions.T, room.fs))\n",
    "\n",
    "# Run the room simulation\n",
    "room.simulate()\n",
    "\n",
    "# Get the microphone signals\n",
    "micSignals = room.mic_array.signals\n",
    "numberSamples = micSignals.shape[1]\n",
    "timeAxis = np.linspace(0, numberSamples / room.fs, numberSamples)"
   ]
  }
 ],
 "metadata": {
  "kernelspec": {
   "display_name": "Python 3",
   "language": "python",
   "name": "python3"
  },
  "language_info": {
   "name": "python",
   "version": "3.12.1"
  }
 },
 "nbformat": 4,
 "nbformat_minor": 5
}
